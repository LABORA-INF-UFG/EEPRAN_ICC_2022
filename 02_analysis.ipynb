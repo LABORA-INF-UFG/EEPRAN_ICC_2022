{
 "cells": [
  {
   "cell_type": "code",
   "execution_count": 26,
   "metadata": {},
   "outputs": [
    {
     "name": "stdout",
     "output_type": "stream",
     "text": [
      "Collecting matplotlib\n",
      "  Downloading matplotlib-3.5.1-cp38-cp38-manylinux_2_5_x86_64.manylinux1_x86_64.whl (11.3 MB)\n",
      "\u001b[K     |████████████████████████████████| 11.3 MB 2.6 MB/s eta 0:00:01\n",
      "\u001b[?25hCollecting fonttools>=4.22.0\n",
      "  Downloading fonttools-4.30.0-py3-none-any.whl (898 kB)\n",
      "\u001b[K     |████████████████████████████████| 898 kB 32.2 MB/s eta 0:00:01\n",
      "\u001b[?25hCollecting packaging>=20.0\n",
      "  Downloading packaging-21.3-py3-none-any.whl (40 kB)\n",
      "\u001b[K     |████████████████████████████████| 40 kB 15.7 MB/s eta 0:00:01\n",
      "\u001b[?25hCollecting numpy>=1.17\n",
      "  Downloading numpy-1.22.3-cp38-cp38-manylinux_2_17_x86_64.manylinux2014_x86_64.whl (16.8 MB)\n",
      "\u001b[K     |████████████████████████████████| 16.8 MB 22.4 MB/s eta 0:00:01\n",
      "\u001b[?25hCollecting kiwisolver>=1.0.1\n",
      "  Downloading kiwisolver-1.4.0-cp38-cp38-manylinux_2_5_x86_64.manylinux1_x86_64.whl (1.2 MB)\n",
      "\u001b[K     |████████████████████████████████| 1.2 MB 20.7 MB/s eta 0:00:01\n",
      "\u001b[?25hCollecting pillow>=6.2.0\n",
      "  Downloading Pillow-9.0.1-cp38-cp38-manylinux_2_17_x86_64.manylinux2014_x86_64.whl (4.3 MB)\n",
      "\u001b[K     |████████████████████████████████| 4.3 MB 23.1 MB/s eta 0:00:01\n",
      "\u001b[?25hCollecting cycler>=0.10\n",
      "  Downloading cycler-0.11.0-py3-none-any.whl (6.4 kB)\n",
      "Collecting pyparsing>=2.2.1\n",
      "  Downloading pyparsing-3.0.7-py3-none-any.whl (98 kB)\n",
      "\u001b[K     |████████████████████████████████| 98 kB 16.4 MB/s eta 0:00:01\n",
      "\u001b[?25hRequirement already satisfied: python-dateutil>=2.7 in /home/dramaturgy/.conda/envs/eepran_env/lib/python3.8/site-packages (from matplotlib) (2.8.2)\n",
      "Requirement already satisfied: six>=1.5 in /home/dramaturgy/.conda/envs/eepran_env/lib/python3.8/site-packages (from python-dateutil>=2.7->matplotlib) (1.16.0)\n",
      "Installing collected packages: pyparsing, pillow, packaging, numpy, kiwisolver, fonttools, cycler, matplotlib\n",
      "Successfully installed cycler-0.11.0 fonttools-4.30.0 kiwisolver-1.4.0 matplotlib-3.5.1 numpy-1.22.3 packaging-21.3 pillow-9.0.1 pyparsing-3.0.7\n"
     ]
    }
   ],
   "source": [
    "!pip install matplotlib"
   ]
  },
  {
   "cell_type": "code",
   "execution_count": 27,
   "metadata": {},
   "outputs": [],
   "source": [
    "import matplotlib.pyplot as plt"
   ]
  },
  {
   "cell_type": "code",
   "execution_count": 28,
   "metadata": {},
   "outputs": [],
   "source": [
    "file = open('solutions/power_test_topo_25_anel_n1_l2.txt', 'r')\n",
    "lines = file.readlines();\n",
    "file.close()\n",
    "\n",
    "consumption_string = lines[0].split('=')[1].strip()\n",
    "consumption_string = consumption_string[1:len(consumption_string)-1]\n",
    "consumption_set = [float(x) for x in consumption_string.split(',')]\n",
    "\n",
    "centralization_string = lines[1].split('=')[1].strip()\n",
    "centralization_string = centralization_string[1:len(centralization_string)-1]\n",
    "centralization_set = [float(x) for x in centralization_string.split(',')]"
   ]
  },
  {
   "cell_type": "code",
   "execution_count": 30,
   "metadata": {},
   "outputs": [
    {
     "data": {
      "image/png": "[encoded data removed]",
      "text/plain": [
       "<Figure size 504x216 with 2 Axes>"
      ]
     },
     "metadata": {
      "needs_background": "light"
     },
     "output_type": "display_data"
    }
   ],
   "source": [
    "fig, ax1 = plt.subplots(figsize=(7, 3))\n",
    "\n",
    "color1 = 'tab:red'\n",
    "color2 = 'tab:blue'\n",
    "alpha = 0.6\n",
    "ax1.set_ylabel('Ratio (KJ/%)', color=color1, fontsize=15, fontfamily='Arial')\n",
    "ax1.set_xlabel('Centralization (%)', fontsize=15, fontfamily='Arial')\n",
    "\n",
    "ax1.tick_params(axis='y', which='major', labelsize=15, colors=color1)\n",
    "ax1.tick_params(axis='x', which='major', labelsize=15)\n",
    "ax1.yaxis.grid(color='gray', linestyle='--', linewidth=0.5)\n",
    "\n",
    "percentage_centralization = [(i / 154) * 100 for i in centralization_set]\n",
    "energy_consumption = [i * 3.6 for i in consumption_set]\n",
    "\n",
    "bar = ax1.bar(percentage_centralization, [i / j for i, j in zip(energy_consumption, percentage_centralization)],\n",
    "                color=color1, alpha=alpha, width=.5)\n",
    "\n",
    "# plt.yticks([0.00, 0.02, 0.04, 0.06, 0.08])\n",
    "plt.yticks([0, 100, 200, 300])\n",
    "\n",
    "ax2 = ax1.twinx()\n",
    "ax2.set_ylabel('Consumption (KJ)', color=color2, fontsize=15, fontfamily='Arial')\n",
    "\n",
    "ax2.tick_params(axis='y', which='major', colors=color2, labelsize=15)\n",
    "ax2.tick_params(axis='x', which='major', labelsize=15)\n",
    "# ax2.yaxis.grid(color='gray', linestyle='--', linewidth=0.5)\n",
    "\n",
    "line, = ax2.plot(percentage_centralization, energy_consumption, color=color2, marker='o')\n",
    "\n",
    "# plt.yticks([2.1, 2.2, 2.3, 2.4, 2.5])\n",
    "plt.yticks([7500, 8000, 8500, 9000])\n",
    "plt.xticks([25, 30, 35, 40, 45, 50])\n",
    "\n",
    "plt.show()\n"
   ]
  }
 ],
 "metadata": {
  "interpreter": {
   "hash": "dd4f80c4140bf1acab2f6cc97a188fa69493d1248ecf40bd33f17e7e0fd9f86c"
  },
  "kernelspec": {
   "display_name": "Python 3.8.12 ('eepran_env')",
   "language": "python",
   "name": "python3"
  },
  "language_info": {
   "codemirror_mode": {
    "name": "ipython",
    "version": 3
   },
   "file_extension": ".py",
   "mimetype": "text/x-python",
   "name": "python",
   "nbconvert_exporter": "python",
   "pygments_lexer": "ipython3",
   "version": "3.8.12"
  },
  "orig_nbformat": 4
 },
 "nbformat": 4,
 "nbformat_minor": 2
}
